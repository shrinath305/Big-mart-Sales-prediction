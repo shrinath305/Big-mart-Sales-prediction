{
 "cells": [
  {
   "cell_type": "code",
   "execution_count": 7,
   "metadata": {},
   "outputs": [],
   "source": [
    "#The Problem Statement:\n",
    "#    \"The data scientists at BigMart have collected 2013 sales data for 1559 products across 10 stores in different cities. \n",
    "#    Also, certain attributes of each product and store have been defined. The aim is to build a predictive model and find\n",
    "#    out the sales of each product at a particular store\".\n",
    "\n",
    "#Using this model, BigMart will try to understand the properties of products and stores which play a key role in increasing sales.*/\n"
   ]
  },
  {
   "cell_type": "code",
   "execution_count": null,
   "metadata": {
    "collapsed": true
   },
   "outputs": [],
   "source": []
  }
 ],
 "metadata": {
  "kernelspec": {
   "display_name": "Python 3",
   "language": "python",
   "name": "python3"
  },
  "language_info": {
   "codemirror_mode": {
    "name": "ipython",
    "version": 3
   },
   "file_extension": ".py",
   "mimetype": "text/x-python",
   "name": "python",
   "nbconvert_exporter": "python",
   "pygments_lexer": "ipython3",
   "version": "3.6.3"
  }
 },
 "nbformat": 4,
 "nbformat_minor": 2
}
